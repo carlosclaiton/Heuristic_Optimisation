{
 "cells": [
  {
   "cell_type": "code",
   "execution_count": 8,
   "metadata": {},
   "outputs": [],
   "source": [
    "## This code compare the (s and v- shaped) Binary  Particle Swarm Optimisation \n",
    "## algoritum\n",
    "## Carlos Claiton N. Kuhn\n",
    "## contact: carlos.kuhn@dst.defence.gov.au\n",
    "## 06/05/2020\n",
    "\n",
    "import numpy as np\n",
    "import random\n",
    "import math\n",
    "from ModelBS import ModelBS as ModelBS\n",
    "from BPSO import BPSO as BPSO\n",
    "from QLearning import QLearning as QLearning\n",
    "from time import time\n",
    "from PSEQEA import PSEQEA as PSEQEA\n",
    "\n",
    "Max_iteration=5000  # Maximum number of iterations\n",
    "NumbRuns = 50     # Nubmer of runs\n",
    "\n",
    "\n",
    "############# DEPENDENCE LEVEL #####################\n",
    "DepLevel = 0;          # Dependence Levels use DepLevel = 4 -> Independent\n",
    "                       #                       DepLevel = 3 -> Tangential\n",
    "                       #                       DepLevel = 2 -> Associated\n",
    "                       #                       DepLevel = 1 -> Dependente\n",
    "                       #                       DepLevel = 0 -> Mandatory\n",
    "                \n",
    "BudgetArray = 6  # 10;#5;                     # Budget array\n",
    "OptAnalytical = 7.1  # 8.1;#6.8;              # analytical Optimum score\n",
    "NumbInitiative = 15 #[15,50,100];#,50,100];%,150];%300,400,500]';\n",
    "\n",
    "model=ModelBS(DepLevel,NumbInitiative,BudgetArray)\n",
    "fitness = model.MyCost\n",
    "noV = len(model.Cost)\n",
    "noP = 30\n",
    "\n",
    "elapsed = np.ones(4)*math.nan\n",
    "gBest = np.ones((4,NumbRuns,noV))*math.nan\n",
    "gBestScore = np.ones((4,NumbRuns))*math.nan\n",
    "ConvergenceCurve = np.ones((4,NumbRuns,Max_iteration))*math.nan\n",
    "IterNumb = np.ones((4,NumbRuns))*math.nan\n",
    "\n",
    "t=time()\n",
    "for i in range(NumbRuns):\n",
    "    [gBest[3,i,:],gBestScore[3,i],ConvergenceCurve[3,i,:],IterNumb[3,i]] = PSEQEA(noP,Max_iteration,fitness,noV)    \n",
    "elapsed[3] = time() - t\n",
    "\n",
    "\n",
    "t=time()\n",
    "for i in range(NumbRuns):\n",
    "    [gBest[0,i,:],gBestScore[0,i],ConvergenceCurve[0,i,:],IterNumb[0,i]] = BPSO(noP,Max_iteration,2,fitness,noV)\n",
    "    \n",
    "elapsed[0] = time() - t\n",
    "\n",
    "t=time()\n",
    "for i in range(NumbRuns):\n",
    "    [gBest[1,i,:],gBestScore[1,i],ConvergenceCurve[1,i,:],IterNumb[1,i]] = BPSO(noP,Max_iteration,8,fitness,noV)\n",
    "\n",
    "elapsed[1] = time() - t\n",
    "\n",
    "t=time()\n",
    "for i in range(NumbRuns):\n",
    "    [gBest[2,i,:],gBestScore[2,i],ConvergenceCurve[2,i,:],IterNumb[2,i]] = QLearning(noP,Max_iteration,fitness,noV)\n",
    "    \n",
    "elapsed[2] = time() - t\n",
    "\n",
    "\n",
    "\n"
   ]
  },
  {
   "cell_type": "code",
   "execution_count": 9,
   "metadata": {},
   "outputs": [
    {
     "data": {
      "image/png": "[encoded data removed]",
      "text/plain": [
       "<Figure size 432x288 with 1 Axes>"
      ]
     },
     "metadata": {
      "needs_background": "light"
     },
     "output_type": "display_data"
    }
   ],
   "source": [
    "# comparing the both BSPO methods  and Q-learning by convergency curves\n",
    "\n",
    "import matplotlib.pyplot as plt\n",
    "from statistics import mean\n",
    "from statistics import stdev\n",
    "\n",
    "MeanConv = np.ones((4,Max_iteration))*math.nan\n",
    "StdConv = np.ones((4,Max_iteration))*math.nan\n",
    "\n",
    "for i in range(4):\n",
    "    for j in range(Max_iteration):\n",
    "        MeanConv[i,j] = mean(1/ConvergenceCurve[i,:,j])\n",
    "        StdConv[i,j] = stdev(1/ConvergenceCurve[i,:,j])/np.sqrt(NumbRuns)\n",
    "        \n",
    "x_axix = np.arange(Max_iteration)\n",
    "# BPSO\n",
    "yerr = StdConv[0,:]\n",
    "plt.errorbar(x_axix, MeanConv[0,:], yerr=yerr, label='both limits (default)')\n",
    "# VPSO\n",
    "yerr = StdConv[1,:]\n",
    "plt.errorbar(x_axix, MeanConv[1,:], yerr=yerr, label='both limits (default)')\n",
    "#QL\n",
    "yerr = StdConv[2,:]\n",
    "plt.errorbar(x_axix, MeanConv[2,:], yerr=yerr, label='both limits (default)')\n",
    "#PSEQEA\n",
    "yerr = StdConv[3,:]\n",
    "plt.errorbar(x_axix, MeanConv[3,:], yerr=yerr, label='both limits (default)')\n",
    "\n",
    "\n",
    "plt.ylabel('Best Score')\n",
    "plt.xlabel('Iteration')\n",
    "plt.legend(['BPSO','VPSO','QL','PSEQEA'])\n",
    "plt.show()\n"
   ]
  },
  {
   "cell_type": "code",
   "execution_count": 10,
   "metadata": {},
   "outputs": [
    {
     "name": "stdout",
     "output_type": "stream",
     "text": [
      "['Budget = 6,  Number of Initiatives : 15']\n",
      "['Method', 'Mean Score', 'Stderror Score', 'Number of hit', 'elepsed time', 'Number of Iterations']\n",
      "['BPSO', 6.836, 0.722, 44.0, 239.871, 283.68]\n",
      "['VPSO', 5.436, 2.567, 30.0, 154.837, 291.48]\n",
      "['QL', 4.922, 2.803, 25.0, 37.618, 220.18]\n",
      "['PSEQEA', 6.44, 1.018, 35.0, 108.651, 218.16]\n"
     ]
    }
   ],
   "source": [
    "Method = ['BPSO','VPSO','QL','PSEQEA']\n",
    "MeanScore = np.ones(4)*math.nan\n",
    "StdScore = np.ones(4)*math.nan\n",
    "number_hits = np.ones(4)*math.nan\n",
    "Mean_IterNumb = np.ones(4)*math.nan\n",
    "\n",
    "display = np.ones((2,6))\n",
    "\n",
    "Best_score = 1/gBestScore\n",
    "\n",
    "print(['Budget = ' + str(BudgetArray) + ',  Number of Initiatives : ' + str(NumbInitiative)])\n",
    "print(['Method' , 'Mean Score' , 'Stderror Score', 'Number of hit', 'elepsed time', 'Number of Iterations'])\n",
    "for i in range(len(Method)):\n",
    "    MeanScore[i] = round(mean(Best_score[i,:]),3)\n",
    "    StdScore[i] = round(stdev(Best_score[i,:]),3)\n",
    "    hits = np.where(Best_score[i,:]==OptAnalytical)\n",
    "    number_hits[i] = np.shape(hits)[1]\n",
    "    Mean_IterNumb[i] = mean(IterNumb[i,:])\n",
    "    \n",
    "    print([Method[i], MeanScore[i] , StdScore[i],number_hits[i],round(elapsed[i],3),Mean_IterNumb[i]])\n",
    "    \n",
    "\n",
    "\n"
   ]
  },
  {
   "cell_type": "code",
   "execution_count": 11,
   "metadata": {},
   "outputs": [
    {
     "data": {
      "image/png": "[encoded data removed]",
      "text/plain": [
       "<Figure size 432x288 with 1 Axes>"
      ]
     },
     "metadata": {
      "needs_background": "light"
     },
     "output_type": "display_data"
    }
   ],
   "source": [
    "\n",
    "#Plot the mean best score in the number of Runs\n",
    "fig, ax = plt.subplots()\n",
    "error = StdScore[0:4]\n",
    "x_pos = np.arange(len(Method))\n",
    "ax.bar(x_pos, MeanScore[0:4], yerr=error, align='center', alpha=0.5,color=['black', 'red', 'green','blue'], ecolor='black', capsize=10)\n",
    "ax.set_ylabel('Mean Best Score')\n",
    "ax.set_xticks(x_pos)\n",
    "ax.set_xticklabels(Method)\n",
    "ax.set_title('15 Initiatives, 50 runs')\n",
    "ax.yaxis.grid(True)\n",
    "\n",
    "# Save the figure and show\n",
    "plt.tight_layout()\n",
    "plt.savefig('Mean_Best_Score')\n",
    "plt.show()\n"
   ]
  },
  {
   "cell_type": "code",
   "execution_count": 12,
   "metadata": {},
   "outputs": [
    {
     "data": {
      "image/png": "[encoded data removed]",
      "text/plain": [
       "<Figure size 432x288 with 1 Axes>"
      ]
     },
     "metadata": {
      "needs_background": "light"
     },
     "output_type": "display_data"
    }
   ],
   "source": [
    "#Plot the number of Hits (find the correct optimum)\n",
    "fig, ax = plt.subplots()\n",
    "ax.bar(x_pos, number_hits[0:4], align='center', alpha=0.5,color=['black', 'red', 'green','blue'], capsize=10)\n",
    "ax.set_ylabel('Number of hits')\n",
    "ax.set_xticks(x_pos)\n",
    "ax.set_xticklabels(Method)\n",
    "ax.set_title('15 Initiatives, 50 runs')\n",
    "ax.yaxis.grid(True)\n",
    "\n",
    "# Save the figure and show\n",
    "plt.tight_layout()\n",
    "plt.savefig('Number_of_hits')\n",
    "plt.show()\n",
    "\n"
   ]
  }
 ],
 "metadata": {
  "kernelspec": {
   "display_name": "Python 3",
   "language": "python",
   "name": "python3"
  },
  "language_info": {
   "codemirror_mode": {
    "name": "ipython",
    "version": 3
   },
   "file_extension": ".py",
   "mimetype": "text/x-python",
   "name": "python",
   "nbconvert_exporter": "python",
   "pygments_lexer": "ipython3",
   "version": "3.7.7"
  }
 },
 "nbformat": 4,
 "nbformat_minor": 4
}
