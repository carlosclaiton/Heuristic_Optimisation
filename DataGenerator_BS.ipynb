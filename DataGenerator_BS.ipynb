{
 "cells": [
  {
   "cell_type": "markdown",
   "metadata": {},
   "source": [
    "## Generate data for the Budget Scenario Problem"
   ]
  },
  {
   "cell_type": "markdown",
   "metadata": {},
   "source": [
    "This function creates the model to solve the Budget Scenario problem   \n",
    "using a Particle Swarm algorithm, BPSO coded by Seyedali Mirjalili.    \n",
    "                                                                       \n",
    "Data used here is from Priority List - Revisited  by N. Order (2009)   \n",
    "                                                                       \n",
    "Developer: Carlos Kuhn                                                 \n",
    "Contact Info: carlos.kuhn@dst.defence.gov.au                           \n",
    "Created 20/03/2020                                                     \n",
    "Adapted to deal with modifications on the model, the idea we feed the\n",
    "model with the number of the initiative we want to remove from the model,\n",
    "that way I can call this function inside of  loop on the main code.\n",
    "\n",
    "Carlos Kuhn - 29/04/2020"
   ]
  },
  {
   "cell_type": "code",
   "execution_count": 18,
   "metadata": {},
   "outputs": [],
   "source": [
    "import numpy as np\n",
    "import math\n",
    "import random\n",
    "\n",
    "## Defeine the vector to fill up\n",
    "NumIn = 15 #total number of initiatives\n",
    "NumInOrder = 15 #number of original Initiatives in Order data\n",
    "Cost = np.ones(NumIn)*math.nan\n",
    "S1 = np.ones(NumIn)*math.nan\n",
    "S2 = np.ones(NumIn)*math.nan\n",
    "S3 = np.ones(NumIn)*math.nan\n",
    "S4 = np.ones(NumIn)*math.nan\n",
    "\n",
    "Initiative = np.array(['O','M','N','D','J','I','B','L','E','A','H','G','C','K','F']);\n",
    "Cost[0:NumInOrder] = [1,1,3,4,7,6,8,11,13,12,14,17,14,20,16];        # cost of each initiative\n",
    "S1[0:NumInOrder] = [10,7,6,8,4,8,8,10,8,7,1,9,5,6,1];                # score for scenario 1\n",
    "S2[0:NumInOrder] = [1,1,3,7,3,7,8,5,4,2,5,5,7,4,7];                  # score for scenario 2\n",
    "S3[0:NumInOrder]  = [8,3,5,1,7,4,3,6,9,9,9,8,5,9,9];                  # score for scenario 3\n",
    "S4[0:NumInOrder]  = [2,4,6,2,9,1,10,9,7,1,9,4,7,4,1];                 # score for scenario 4\n",
    "\n",
    "# Generate the uniformly random data to increase\n",
    "for ind in range(NumInOrder, NumIn):\n",
    "    S1[ind]=random.randint(1,9)\n",
    "    S2[ind]=random.randint(1,9)\n",
    "    S3[ind]=random.randint(1,9)\n",
    "    S4[ind]=random.randint(1,9)\n",
    "    Cost[ind] = random.randint(7,50)\n",
    "\n",
    "ScenarioMatrix = np.array([S1,S2,S3,S4])\n",
    "\n",
    "# Saving the generated data\n",
    "nameSave = 'data' +str(NumIn)+'in'\n",
    "np.save(nameSave, [Cost, S1, S2, S3, S4])"
   ]
  },
  {
   "cell_type": "code",
   "execution_count": 19,
   "metadata": {},
   "outputs": [
    {
     "data": {
      "text/plain": [
       "array([[ 1.,  1.,  3.,  4.,  7.,  6.,  8., 11., 13., 12., 14., 17., 14.,\n",
       "        20., 16.],\n",
       "       [10.,  7.,  6.,  8.,  4.,  8.,  8., 10.,  8.,  7.,  1.,  9.,  5.,\n",
       "         6.,  1.],\n",
       "       [ 1.,  1.,  3.,  7.,  3.,  7.,  8.,  5.,  4.,  2.,  5.,  5.,  7.,\n",
       "         4.,  7.],\n",
       "       [ 8.,  3.,  5.,  1.,  7.,  4.,  3.,  6.,  9.,  9.,  9.,  8.,  5.,\n",
       "         9.,  9.],\n",
       "       [ 2.,  4.,  6.,  2.,  9.,  1., 10.,  9.,  7.,  1.,  9.,  4.,  7.,\n",
       "         4.,  1.]])"
      ]
     },
     "execution_count": 19,
     "metadata": {},
     "output_type": "execute_result"
    }
   ],
   "source": [
    "# Load the data\n",
    "nameload = 'data' +str(NumIn)+'in.npy'\n",
    "data = np.load(nameload)\n",
    "data"
   ]
  },
  {
   "cell_type": "code",
   "execution_count": null,
   "metadata": {},
   "outputs": [],
   "source": []
  }
 ],
 "metadata": {
  "kernelspec": {
   "display_name": "Python 3",
   "language": "python",
   "name": "python3"
  },
  "language_info": {
   "codemirror_mode": {
    "name": "ipython",
    "version": 3
   },
   "file_extension": ".py",
   "mimetype": "text/x-python",
   "name": "python",
   "nbconvert_exporter": "python",
   "pygments_lexer": "ipython3",
   "version": "3.7.7"
  }
 },
 "nbformat": 4,
 "nbformat_minor": 4
}
